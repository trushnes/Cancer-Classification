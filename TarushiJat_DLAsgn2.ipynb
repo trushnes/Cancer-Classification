{
  "nbformat": 4,
  "nbformat_minor": 0,
  "metadata": {
    "colab": {
      "name": "TarushiJat_DLAsgn2.ipynb",
      "provenance": [],
      "collapsed_sections": [],
      "authorship_tag": "ABX9TyPuHuYhXhN+wdypLP0x1Z+G",
      "include_colab_link": true
    },
    "kernelspec": {
      "name": "python3",
      "display_name": "Python 3"
    }
  },
  "cells": [
    {
      "cell_type": "markdown",
      "metadata": {
        "id": "view-in-github",
        "colab_type": "text"
      },
      "source": [
        "<a href=\"https://colab.research.google.com/github/trushnes/Cancer-Classification/blob/main/TarushiJat_DLAsgn2.ipynb\" target=\"_parent\"><img src=\"https://colab.research.google.com/assets/colab-badge.svg\" alt=\"Open In Colab\"/></a>"
      ]
    },
    {
      "cell_type": "markdown",
      "metadata": {
        "id": "xiFQNdnIx3sw"
      },
      "source": [
        "## **Problem : Predicting whether breast cancer is benign or malignant.**\n",
        "\n",
        "* **Splited dataset into 80:20 and tabulated the result**\n",
        "* **Used 10-fold cross validation and tabulated the results**\n",
        "* **Changed the hyperparameter of SVM and random forest and plotted the accuracy.**"
      ]
    },
    {
      "cell_type": "markdown",
      "metadata": {
        "id": "jU4uLWloyqW7"
      },
      "source": [
        "# **1. Making Necessary Imports**"
      ]
    },
    {
      "cell_type": "code",
      "metadata": {
        "id": "DlnY7jvRyuMV"
      },
      "source": [
        "import pandas as pd\n",
        "import numpy as np\n",
        "import matplotlib.pyplot as plt\n",
        "\n",
        "import seaborn as sns\n",
        "from sklearn.ensemble import RandomForestClassifier\n",
        "from sklearn.metrics import confusion_matrix, plot_confusion_matrix, classification_report\n",
        "from sklearn.metrics import roc_auc_score, accuracy_score\n",
        "\n",
        "from sklearn.model_selection import KFold, GridSearchCV\n",
        "from sklearn import svm\n",
        "from sklearn.svm import SVC\n",
        "\n"
      ],
      "execution_count": null,
      "outputs": []
    },
    {
      "cell_type": "markdown",
      "metadata": {
        "id": "RLf_ke-Ky2cJ"
      },
      "source": [
        "# **2. Dataset Details**\n",
        "\n",
        "I have used **''Breast Cancer Wisconsin (Original) Data Set''** which is collected from **UCI Machine Learning Repositary.** \n",
        "\n",
        "**Source :** https://archive.ics.uci.edu/ml/datasets/breast+cancer+wisconsin+%28original%29\n",
        "\n",
        "\n",
        "    \n",
        "\n",
        "\n",
        "\n"
      ]
    },
    {
      "cell_type": "markdown",
      "metadata": {
        "id": "w4_W6Nx72b72"
      },
      "source": [
        "**2.1 Loading Dataset from csv file**"
      ]
    },
    {
      "cell_type": "code",
      "metadata": {
        "id": "LcU0k-ZqzDvD"
      },
      "source": [
        "cell_df = pd.read_csv('/content/sample_data/cancer_dataset.csv')"
      ],
      "execution_count": null,
      "outputs": []
    },
    {
      "cell_type": "markdown",
      "metadata": {
        "id": "0DgpiXIi23UU"
      },
      "source": [
        "* **Number of Instances:** 699 \n",
        "\n",
        "\n",
        "\n",
        "\n",
        "\n",
        "* **Number of Attributes:** 10 plus the class attribute"
      ]
    },
    {
      "cell_type": "code",
      "metadata": {
        "id": "bpHbMCdL213R",
        "colab": {
          "base_uri": "https://localhost:8080/"
        },
        "outputId": "d98be94e-13e6-4b6b-f611-ae74881c1392"
      },
      "source": [
        "cell_df.shape"
      ],
      "execution_count": null,
      "outputs": [
        {
          "output_type": "execute_result",
          "data": {
            "text/plain": [
              "(699, 11)"
            ]
          },
          "metadata": {
            "tags": []
          },
          "execution_count": 186
        }
      ]
    },
    {
      "cell_type": "markdown",
      "metadata": {
        "id": "m-8NBTVA4D1g"
      },
      "source": [
        "**2.2 Attribute Details**\n",
        "\n",
        "* **ID :** Sample code number\n",
        "\n",
        "* **Clump :** Clump Thickness\n",
        "\n",
        "* **UnifSize :** Uniformity of Cell Size \n",
        "\n",
        "* **UnifShape :** Uniformity of Cell Shape\n",
        "\n",
        "* **MargAdh :** Marginal Adhesion\n",
        "\n",
        "* **SingEpiSize :** Single Epithelial Cell Size\n",
        "\n",
        "* **BareNuc :** Bare Nuclei  \n",
        "\n",
        "* **BlandChrom :** Bland Chromatin \n",
        "\n",
        "* **NormNucl :** Normal Nucleoli \n",
        "\n",
        "* **Mit :** Mitoses \n",
        "\n",
        "* **Class :** 2 for benign, 4 for malignant"
      ]
    },
    {
      "cell_type": "code",
      "metadata": {
        "id": "cH-8nq_D3lOB",
        "colab": {
          "base_uri": "https://localhost:8080/",
          "height": 195
        },
        "outputId": "56d4b577-6c58-45b9-f3ff-b6f7ae989d88"
      },
      "source": [
        "cell_df.tail()"
      ],
      "execution_count": null,
      "outputs": [
        {
          "output_type": "execute_result",
          "data": {
            "text/html": [
              "<div>\n",
              "<style scoped>\n",
              "    .dataframe tbody tr th:only-of-type {\n",
              "        vertical-align: middle;\n",
              "    }\n",
              "\n",
              "    .dataframe tbody tr th {\n",
              "        vertical-align: top;\n",
              "    }\n",
              "\n",
              "    .dataframe thead th {\n",
              "        text-align: right;\n",
              "    }\n",
              "</style>\n",
              "<table border=\"1\" class=\"dataframe\">\n",
              "  <thead>\n",
              "    <tr style=\"text-align: right;\">\n",
              "      <th></th>\n",
              "      <th>ID</th>\n",
              "      <th>Clump</th>\n",
              "      <th>UnifSize</th>\n",
              "      <th>UnifShape</th>\n",
              "      <th>MargAdh</th>\n",
              "      <th>SingEpiSize</th>\n",
              "      <th>BareNuc</th>\n",
              "      <th>BlandChrom</th>\n",
              "      <th>NormNucl</th>\n",
              "      <th>Mit</th>\n",
              "      <th>Class</th>\n",
              "    </tr>\n",
              "  </thead>\n",
              "  <tbody>\n",
              "    <tr>\n",
              "      <th>694</th>\n",
              "      <td>776715</td>\n",
              "      <td>3</td>\n",
              "      <td>1</td>\n",
              "      <td>1</td>\n",
              "      <td>1</td>\n",
              "      <td>3</td>\n",
              "      <td>2</td>\n",
              "      <td>1</td>\n",
              "      <td>1</td>\n",
              "      <td>1</td>\n",
              "      <td>2</td>\n",
              "    </tr>\n",
              "    <tr>\n",
              "      <th>695</th>\n",
              "      <td>841769</td>\n",
              "      <td>2</td>\n",
              "      <td>1</td>\n",
              "      <td>1</td>\n",
              "      <td>1</td>\n",
              "      <td>2</td>\n",
              "      <td>1</td>\n",
              "      <td>1</td>\n",
              "      <td>1</td>\n",
              "      <td>1</td>\n",
              "      <td>2</td>\n",
              "    </tr>\n",
              "    <tr>\n",
              "      <th>696</th>\n",
              "      <td>888820</td>\n",
              "      <td>5</td>\n",
              "      <td>10</td>\n",
              "      <td>10</td>\n",
              "      <td>3</td>\n",
              "      <td>7</td>\n",
              "      <td>3</td>\n",
              "      <td>8</td>\n",
              "      <td>10</td>\n",
              "      <td>2</td>\n",
              "      <td>4</td>\n",
              "    </tr>\n",
              "    <tr>\n",
              "      <th>697</th>\n",
              "      <td>897471</td>\n",
              "      <td>4</td>\n",
              "      <td>8</td>\n",
              "      <td>6</td>\n",
              "      <td>4</td>\n",
              "      <td>3</td>\n",
              "      <td>4</td>\n",
              "      <td>10</td>\n",
              "      <td>6</td>\n",
              "      <td>1</td>\n",
              "      <td>4</td>\n",
              "    </tr>\n",
              "    <tr>\n",
              "      <th>698</th>\n",
              "      <td>897471</td>\n",
              "      <td>4</td>\n",
              "      <td>8</td>\n",
              "      <td>8</td>\n",
              "      <td>5</td>\n",
              "      <td>4</td>\n",
              "      <td>5</td>\n",
              "      <td>10</td>\n",
              "      <td>4</td>\n",
              "      <td>1</td>\n",
              "      <td>4</td>\n",
              "    </tr>\n",
              "  </tbody>\n",
              "</table>\n",
              "</div>"
            ],
            "text/plain": [
              "         ID  Clump  UnifSize  UnifShape  ...  BlandChrom  NormNucl Mit  Class\n",
              "694  776715      3         1          1  ...           1         1   1      2\n",
              "695  841769      2         1          1  ...           1         1   1      2\n",
              "696  888820      5        10         10  ...           8        10   2      4\n",
              "697  897471      4         8          6  ...          10         6   1      4\n",
              "698  897471      4         8          8  ...          10         4   1      4\n",
              "\n",
              "[5 rows x 11 columns]"
            ]
          },
          "metadata": {
            "tags": []
          },
          "execution_count": 187
        }
      ]
    },
    {
      "cell_type": "markdown",
      "metadata": {
        "id": "aGgjay7t6Bhi"
      },
      "source": [
        "* **Number of instances of benign (class - 2):** 458\n",
        "\n",
        "* **Number of instances of Malignant (class - 4):** 241"
      ]
    },
    {
      "cell_type": "code",
      "metadata": {
        "id": "8KXdixGe54D9",
        "colab": {
          "base_uri": "https://localhost:8080/"
        },
        "outputId": "d7a4232a-8017-44c4-fdd7-3ca1377911f4"
      },
      "source": [
        "cell_df['Class'].value_counts()"
      ],
      "execution_count": null,
      "outputs": [
        {
          "output_type": "execute_result",
          "data": {
            "text/plain": [
              "2    458\n",
              "4    241\n",
              "Name: Class, dtype: int64"
            ]
          },
          "metadata": {
            "tags": []
          },
          "execution_count": 188
        }
      ]
    },
    {
      "cell_type": "markdown",
      "metadata": {
        "id": "qnZi9XWP81Cw"
      },
      "source": [
        "**2.3 Visualising distribution of the classes**"
      ]
    },
    {
      "cell_type": "code",
      "metadata": {
        "id": "nBmAeeDF8XdR",
        "colab": {
          "base_uri": "https://localhost:8080/",
          "height": 296
        },
        "outputId": "f09644bf-47cd-4f35-d6d9-57f5e11cd43a"
      },
      "source": [
        "benign_df = cell_df[cell_df['Class']==2][0:200]  #Extracting only those rows having class attribute 2\n",
        "malignant_df = cell_df[cell_df['Class']==4][0:200] #Extracting only those rows having class attribute 4\n",
        "\n",
        "axes = benign_df.plot(kind='scatter', x='Clump', y='UnifSize', color='black', label='Benign')\n",
        "malignant_df.plot(kind='scatter', x='Clump', y='UnifSize', color='red', label='Malignant', ax=axes)"
      ],
      "execution_count": null,
      "outputs": [
        {
          "output_type": "execute_result",
          "data": {
            "text/plain": [
              "<matplotlib.axes._subplots.AxesSubplot at 0x7fbedace4978>"
            ]
          },
          "metadata": {
            "tags": []
          },
          "execution_count": 189
        },
        {
          "output_type": "display_data",
          "data": {
            "image/png": "[encoded data removed]",
            "text/plain": [
              "<Figure size 432x288 with 1 Axes>"
            ]
          },
          "metadata": {
            "tags": [],
            "needs_background": "light"
          }
        }
      ]
    },
    {
      "cell_type": "markdown",
      "metadata": {
        "id": "9fON6BlIC6tL"
      },
      "source": [
        "**2.4 Identifying unwanted rows**"
      ]
    },
    {
      "cell_type": "code",
      "metadata": {
        "id": "7hpljXljDjl2",
        "colab": {
          "base_uri": "https://localhost:8080/"
        },
        "outputId": "965a8da9-6b4f-4a25-d967-e5b74f641220"
      },
      "source": [
        "cell_df.dtypes"
      ],
      "execution_count": null,
      "outputs": [
        {
          "output_type": "execute_result",
          "data": {
            "text/plain": [
              "ID              int64\n",
              "Clump           int64\n",
              "UnifSize        int64\n",
              "UnifShape       int64\n",
              "MargAdh         int64\n",
              "SingEpiSize     int64\n",
              "BareNuc        object\n",
              "BlandChrom      int64\n",
              "NormNucl        int64\n",
              "Mit             int64\n",
              "Class           int64\n",
              "dtype: object"
            ]
          },
          "metadata": {
            "tags": []
          },
          "execution_count": 190
        }
      ]
    },
    {
      "cell_type": "markdown",
      "metadata": {
        "id": "0lw2ZfRtDyY3"
      },
      "source": [
        "Here, **BareNuc** column is having data type as object, which is not a numeric value and thus I can not apply mathematical opeartion on this particular column.\n",
        "So, I will convert all the values of BareNuc column to numeric type using pands library to_numeric.\n"
      ]
    },
    {
      "cell_type": "code",
      "metadata": {
        "id": "rUAKHuoz-NqC",
        "colab": {
          "base_uri": "https://localhost:8080/"
        },
        "outputId": "667edbe0-a16c-4b95-fc27-25dded985fec"
      },
      "source": [
        "cell_df = cell_df[pd.to_numeric(cell_df['BareNuc'], errors='coerce').notnull()] # alternative choice of coerce is ignore.\n",
        "cell_df['BareNuc'] = cell_df['BareNuc'].astype('int')\n",
        "cell_df.dtypes"
      ],
      "execution_count": null,
      "outputs": [
        {
          "output_type": "execute_result",
          "data": {
            "text/plain": [
              "ID             int64\n",
              "Clump          int64\n",
              "UnifSize       int64\n",
              "UnifShape      int64\n",
              "MargAdh        int64\n",
              "SingEpiSize    int64\n",
              "BareNuc        int64\n",
              "BlandChrom     int64\n",
              "NormNucl       int64\n",
              "Mit            int64\n",
              "Class          int64\n",
              "dtype: object"
            ]
          },
          "metadata": {
            "tags": []
          },
          "execution_count": 191
        }
      ]
    },
    {
      "cell_type": "markdown",
      "metadata": {
        "id": "4ji6XuFHGFRC"
      },
      "source": [
        "**2.5 Removing unwanted columns**"
      ]
    },
    {
      "cell_type": "code",
      "metadata": {
        "id": "Z7-rvKi3Ft43",
        "colab": {
          "base_uri": "https://localhost:8080/"
        },
        "outputId": "74bfde3e-14d4-4142-c16d-d06065a3992c"
      },
      "source": [
        "cell_df.columns"
      ],
      "execution_count": null,
      "outputs": [
        {
          "output_type": "execute_result",
          "data": {
            "text/plain": [
              "Index(['ID', 'Clump', 'UnifSize', 'UnifShape', 'MargAdh', 'SingEpiSize',\n",
              "       'BareNuc', 'BlandChrom', 'NormNucl', 'Mit', 'Class'],\n",
              "      dtype='object')"
            ]
          },
          "metadata": {
            "tags": []
          },
          "execution_count": 192
        }
      ]
    },
    {
      "cell_type": "markdown",
      "metadata": {
        "id": "RyI2IfFCGtlf"
      },
      "source": [
        "I am removing ID attribute here because it is not going to contribute in next predication. It is just a identifier for rows."
      ]
    },
    {
      "cell_type": "code",
      "metadata": {
        "id": "d-iXzaxAGiez",
        "colab": {
          "base_uri": "https://localhost:8080/"
        },
        "outputId": "63a6f8fa-3199-4204-8181-55276e4220eb"
      },
      "source": [
        "features_df = cell_df[['Clump', 'UnifSize', 'UnifShape', 'MargAdh', 'SingEpiSize',\n",
        "       'BareNuc', 'BlandChrom', 'NormNucl', 'Mit']]\n",
        "\n",
        "X = np.asarray(features_df)     #Independent Varibale X\n",
        "\n",
        "y = np.asarray(cell_df['Class'])  #Dependent Variable y\n",
        "\n",
        "X[0:5]"
      ],
      "execution_count": null,
      "outputs": [
        {
          "output_type": "execute_result",
          "data": {
            "text/plain": [
              "array([[ 5,  1,  1,  1,  2,  1,  3,  1,  1],\n",
              "       [ 5,  4,  4,  5,  7, 10,  3,  2,  1],\n",
              "       [ 3,  1,  1,  1,  2,  2,  3,  1,  1],\n",
              "       [ 6,  8,  8,  1,  3,  4,  3,  7,  1],\n",
              "       [ 4,  1,  1,  3,  2,  1,  3,  1,  1]])"
            ]
          },
          "metadata": {
            "tags": []
          },
          "execution_count": 193
        }
      ]
    },
    {
      "cell_type": "code",
      "metadata": {
        "id": "jUEPg41lHZsi",
        "colab": {
          "base_uri": "https://localhost:8080/"
        },
        "outputId": "5f10d4c2-b567-4700-a47f-e2f4e7cbd7b9"
      },
      "source": [
        "y[0:5]"
      ],
      "execution_count": null,
      "outputs": [
        {
          "output_type": "execute_result",
          "data": {
            "text/plain": [
              "array([2, 2, 2, 2, 2])"
            ]
          },
          "metadata": {
            "tags": []
          },
          "execution_count": 194
        }
      ]
    },
    {
      "cell_type": "markdown",
      "metadata": {
        "id": "f8OX0HHjHjrb"
      },
      "source": [
        "# **3. Spliting the dataset into train and test (80 : 20) & tablulating result**"
      ]
    },
    {
      "cell_type": "code",
      "metadata": {
        "id": "nwtppdQZHx8s",
        "colab": {
          "base_uri": "https://localhost:8080/"
        },
        "outputId": "20683f8f-4f84-4acc-f759-b410fd9dd4a4"
      },
      "source": [
        "'''\n",
        "cell_df (100) ---> train(80) / test(20)\n",
        "Train(X,y)  #X itself is 2D array & y is 1D array\n",
        "Test(X,y)\n",
        "'''\n",
        "from sklearn.model_selection import train_test_split\n",
        "from tabulate import tabulate\n",
        "\n",
        "X_train, X_test, y_train, y_test = train_test_split(X, y, test_size = 0.2, random_state = 4)\n",
        "\n",
        "table = [[\"X_train\",X_train.shape[0],X_train.shape[1]],[\"X_test\",X_test.shape[0],X_test.shape[1]],\n",
        "         [\"y_train\",y_train.shape[0],1],[\"y_test\",y_test.shape[0],1]]\n",
        "\n",
        "print(tabulate(table, headers=[\"Train & Test\",\"Records\",\"Attributes\"],tablefmt=\"github\"))\n",
        "\n"
      ],
      "execution_count": null,
      "outputs": [
        {
          "output_type": "stream",
          "text": [
            "| Train & Test   |   Records |   Attributes |\n",
            "|----------------|-----------|--------------|\n",
            "| X_train        |       546 |            9 |\n",
            "| X_test         |       137 |            9 |\n",
            "| y_train        |       546 |            1 |\n",
            "| y_test         |       137 |            1 |\n"
          ],
          "name": "stdout"
        }
      ]
    },
    {
      "cell_type": "markdown",
      "metadata": {
        "id": "z1nk2fEAfArr"
      },
      "source": [
        "# **4. Use 10-fold cross validation and tabulate the results**"
      ]
    },
    {
      "cell_type": "markdown",
      "metadata": {
        "id": "e2QO67wLk-RG"
      },
      "source": [
        "**4.1 Initialization of K-fold algorithm**"
      ]
    },
    {
      "cell_type": "code",
      "metadata": {
        "id": "-pAP-70dQoSt"
      },
      "source": [
        "k = 10\n",
        "cv = KFold(n_splits=10, shuffle=False)\n",
        "classifier = svm.SVC(kernel='linear', gamma='auto', C=2)"
      ],
      "execution_count": null,
      "outputs": []
    },
    {
      "cell_type": "markdown",
      "metadata": {
        "id": "b251S-aYlrCE"
      },
      "source": [
        "**4.2 K- fold cross algorithm and SVM classification model**"
      ]
    },
    {
      "cell_type": "code",
      "metadata": {
        "id": "15VFZ2AzlqlX",
        "colab": {
          "base_uri": "https://localhost:8080/"
        },
        "outputId": "f39a57e5-4138-4b01-f592-c3164e5407a5"
      },
      "source": [
        "scores = []\n",
        "itr = k\n",
        "\n",
        "for train_index, test_index in cv.split(X):\n",
        "    \n",
        "    X_train, X_test, y_train, y_test = X[train_index], X[test_index], y[train_index], y[test_index]\n",
        "\n",
        "    classifier.fit(X_train, y_train)\n",
        "    y_predict = classifier.predict(X_test)\n",
        "\n",
        "    acc = accuracy_score(y_predict, y_test)\n",
        "    scores.append(acc)\n",
        "    print('Accuracy of {}th fold = {}%'.format((k-itr+1),np.round(acc*100,2)))\n",
        "    itr-=1\n",
        "    \n",
        "  \n",
        "avg_acc_score = sum(scores) / k\n",
        "\n",
        "print('\\nTraining dataset for each fold = {}'.format(len(train_index)))\n",
        "print('\\nTesting dataset for each fold = {}'.format(len(test_index)))\n",
        "print('\\nMean Accuracy of all {} folds = {}%'.format(k, np.round(avg_acc_score*100, 2)))"
      ],
      "execution_count": null,
      "outputs": [
        {
          "output_type": "stream",
          "text": [
            "Accuracy of 1th fold = 91.3%\n",
            "Accuracy of 2th fold = 98.55%\n",
            "Accuracy of 3th fold = 98.55%\n",
            "Accuracy of 4th fold = 94.12%\n",
            "Accuracy of 5th fold = 92.65%\n",
            "Accuracy of 6th fold = 100.0%\n",
            "Accuracy of 7th fold = 95.59%\n",
            "Accuracy of 8th fold = 98.53%\n",
            "Accuracy of 9th fold = 98.53%\n",
            "Accuracy of 10th fold = 98.53%\n",
            "\n",
            "Training dataset for each fold = 615\n",
            "\n",
            "Testing dataset for each fold = 68\n",
            "\n",
            "Mean Accuracy of all 10 folds = 96.63%\n"
          ],
          "name": "stdout"
        }
      ]
    },
    {
      "cell_type": "code",
      "metadata": {
        "id": "8wwByli3mJ1D",
        "colab": {
          "base_uri": "https://localhost:8080/",
          "height": 295
        },
        "outputId": "edc0aaa7-3086-4b05-dff4-95963ee1ca4d"
      },
      "source": [
        "plt.plot(np.arange(1, k+1), scores, marker='o', linestyle='solid',color='green')\n",
        "plt.xlabel('Fold#')\n",
        "plt.ylabel('Accuracy')\n",
        "plt.title('Accuracy vs Folds')\n",
        "plt.show()"
      ],
      "execution_count": null,
      "outputs": [
        {
          "output_type": "display_data",
          "data": {
            "image/png": "[encoded data removed]",
            "text/plain": [
              "<Figure size 432x288 with 1 Axes>"
            ]
          },
          "metadata": {
            "tags": [],
            "needs_background": "light"
          }
        }
      ]
    },
    {
      "cell_type": "markdown",
      "metadata": {
        "id": "P1ELCOaIny_f"
      },
      "source": [
        "So, here getting accuracy as high as 100.00% in 6th fold\n",
        "and as low as 91.3% in 1st fold"
      ]
    },
    {
      "cell_type": "markdown",
      "metadata": {
        "id": "FPGSVpDvpirl"
      },
      "source": [
        "**4.3 K- fold cross algorithm and Random Forest classification model**"
      ]
    },
    {
      "cell_type": "code",
      "metadata": {
        "id": "g2IXx6eep7G7"
      },
      "source": [
        "k = 10\n",
        "c_v = KFold(n_splits=10, shuffle=False)\n",
        "model = RandomForestClassifier(n_estimators=20, max_depth=10)"
      ],
      "execution_count": null,
      "outputs": []
    },
    {
      "cell_type": "code",
      "metadata": {
        "id": "MHAgvL9HqG-D",
        "colab": {
          "base_uri": "https://localhost:8080/"
        },
        "outputId": "e025eca5-193a-4e34-d6a5-f19d5ec00228"
      },
      "source": [
        "scores = []\n",
        "itr = k\n",
        "\n",
        "for train_index, test_index in c_v.split(X):\n",
        "    \n",
        "    X_train, X_test, y_train, y_test = X[train_index], X[test_index], y[train_index], y[test_index]\n",
        "    model.fit(X_train, y_train)\n",
        "    y_pred = model.predict(X_test)\n",
        "    y_pred_train = model.predict(X_train)\n",
        "\n",
        "    ac = accuracy_score(y_pred, y_test)\n",
        "    scores.append(ac)\n",
        "    print('Accuracy of {}th fold = {}%'.format((k-itr+1),np.round(ac*100,2)))\n",
        "    itr-=1\n",
        "\n",
        "avg_ac_score = sum(scores) / k\n",
        "\n",
        "print('\\nTraining dataset for each fold = {}'.format(len(train_index)))\n",
        "print('\\nTesting dataset for each fold = {}'.format(len(test_index)))\n",
        "print('\\nMean Accuracy of all {} folds = {}%'.format(k, np.round(avg_ac_score*100, 2)))\n"
      ],
      "execution_count": null,
      "outputs": [
        {
          "output_type": "stream",
          "text": [
            "Accuracy of 1th fold = 86.96%\n",
            "Accuracy of 2th fold = 98.55%\n",
            "Accuracy of 3th fold = 98.55%\n",
            "Accuracy of 4th fold = 92.65%\n",
            "Accuracy of 5th fold = 92.65%\n",
            "Accuracy of 6th fold = 100.0%\n",
            "Accuracy of 7th fold = 95.59%\n",
            "Accuracy of 8th fold = 100.0%\n",
            "Accuracy of 9th fold = 97.06%\n",
            "Accuracy of 10th fold = 100.0%\n",
            "\n",
            "Training dataset for each fold = 615\n",
            "\n",
            "Testing dataset for each fold = 68\n",
            "\n",
            "Mean Accuracy of all 10 folds = 96.2%\n"
          ],
          "name": "stdout"
        }
      ]
    },
    {
      "cell_type": "code",
      "metadata": {
        "id": "QhahQyferuxe",
        "colab": {
          "base_uri": "https://localhost:8080/",
          "height": 295
        },
        "outputId": "1d6a628d-be77-46e7-d822-be0ac32f078f"
      },
      "source": [
        "plt.plot(np.arange(1, k+1), scores, marker='o', linestyle='solid',color='red')\n",
        "plt.xlabel('Fold#')\n",
        "plt.ylabel('Accuracy')\n",
        "plt.title('Accuracy vs Folds')\n",
        "plt.show()"
      ],
      "execution_count": null,
      "outputs": [
        {
          "output_type": "display_data",
          "data": {
            "image/png": "[encoded data removed]",
            "text/plain": [
              "<Figure size 432x288 with 1 Axes>"
            ]
          },
          "metadata": {
            "tags": [],
            "needs_background": "light"
          }
        }
      ]
    },
    {
      "cell_type": "markdown",
      "metadata": {
        "id": "HvgSVUXOsBeE"
      },
      "source": [
        "So, here getting accuracy as high as 100.00% in 8th, 9th & 10th folds\n",
        "and as low as 89.86% in 1st fold"
      ]
    },
    {
      "cell_type": "markdown",
      "metadata": {
        "id": "y56Kg77eq9ka"
      },
      "source": [
        "# **5. Change the hyperparameter of SVM and random forest and plot the accuracy**"
      ]
    },
    {
      "cell_type": "markdown",
      "metadata": {
        "id": "M4y_bzd8uJgM"
      },
      "source": [
        "**5.1 Support Vector Classifier**"
      ]
    },
    {
      "cell_type": "markdown",
      "metadata": {
        "id": "iINHZ5OdwYUF"
      },
      "source": [
        "Support vector classifier with linear kernel and C = 10"
      ]
    },
    {
      "cell_type": "code",
      "metadata": {
        "id": "YBAqWlQmtK9-",
        "colab": {
          "base_uri": "https://localhost:8080/"
        },
        "outputId": "d417b4b3-8f2a-4dc0-92e1-4e1b9a98a4ef"
      },
      "source": [
        "classifier = svm.SVC(kernel='linear', gamma='scale', C=10)\n",
        "\n",
        "clf = classifier.fit(X_train, y_train)\n",
        "y_predict = classifier.predict(X_test)\n",
        "\n",
        "print('Accuracy of Linear SVC on training set: {:.2f}%'.format(clf.score(X_train, y_train)*100))\n",
        "print('Accuracy of Linear SVC on test set: {:.2f}%'.format(clf.score(X_test, y_test)*100))\n"
      ],
      "execution_count": null,
      "outputs": [
        {
          "output_type": "stream",
          "text": [
            "Accuracy of Linear SVC on training set: 97.07%\n",
            "Accuracy of Linear SVC on test set: 98.53%\n"
          ],
          "name": "stdout"
        }
      ]
    },
    {
      "cell_type": "markdown",
      "metadata": {
        "id": "vujvvNchKIWS"
      },
      "source": [
        "**Tuning C parameter :** \n",
        "\n",
        "C (Regularisation): C is the penalty parameter, which represents misclassification or error term. The misclassification or error term tells the SVM optimisation how much error is bearable. I have used GridSearchCV algorithm for tuning the hyperparameter."
      ]
    },
    {
      "cell_type": "code",
      "metadata": {
        "id": "J-EJ-TgACszo",
        "colab": {
          "base_uri": "https://localhost:8080/"
        },
        "outputId": "c12d0fc6-07dd-440d-a254-61fc98376837"
      },
      "source": [
        "\n",
        "param_grid = {'C': [0.1, 1, 10, 100]}\n",
        "\n",
        "grid = GridSearchCV(clf,param_grid,refit=True)\n",
        "temp_grid = grid.fit(X_train, y_train)\n",
        "best_C = grid.best_params_['C']\n",
        "print(\"The best value of hyper-parameter C : {:.3f}\" .format(best_C))\n",
        "print( \"Best estimator accuracy on test set {:.3f} \".format(grid.best_estimator_.score(X_test, y_test) * 100 ) )"
      ],
      "execution_count": null,
      "outputs": [
        {
          "output_type": "stream",
          "text": [
            "The best value of hyper-parameter C : 0.100\n",
            "Best estimator accuracy on test set 98.529 \n"
          ],
          "name": "stdout"
        }
      ]
    },
    {
      "cell_type": "markdown",
      "metadata": {
        "id": "PrsjF7OeLclE"
      },
      "source": [
        "Updating classifier with best C value"
      ]
    },
    {
      "cell_type": "code",
      "metadata": {
        "id": "CNh0QtAJCubS"
      },
      "source": [
        "clf = SVC(kernel ='linear', gamma='auto', C=best_C).fit(X_train,y_train)"
      ],
      "execution_count": null,
      "outputs": []
    },
    {
      "cell_type": "code",
      "metadata": {
        "id": "eCYAKemcuuPe",
        "colab": {
          "base_uri": "https://localhost:8080/",
          "height": 313
        },
        "outputId": "f60939b5-5866-4da9-82fc-cdbeff16f1bf"
      },
      "source": [
        "target_names = [\"Benign(2)\", \"Malignant(4)\"]\n",
        "cm = confusion_matrix(y_test,classifier.predict(X_test))\n",
        "print(\"Confusion Matrix\",cm)\n",
        "vis = plot_confusion_matrix(clf, X_test, y_test, cmap=plt.cm.OrRd, display_labels = target_names)\n",
        "plt.show()"
      ],
      "execution_count": null,
      "outputs": [
        {
          "output_type": "stream",
          "text": [
            "Confusion Matrix [[54  1]\n",
            " [ 0 13]]\n"
          ],
          "name": "stdout"
        },
        {
          "output_type": "display_data",
          "data": {
            "image/png": "[encoded data removed]",
            "text/plain": [
              "<Figure size 432x288 with 2 Axes>"
            ]
          },
          "metadata": {
            "tags": [],
            "needs_background": "light"
          }
        }
      ]
    },
    {
      "cell_type": "code",
      "metadata": {
        "id": "wNkwO7fOwhvQ",
        "colab": {
          "base_uri": "https://localhost:8080/"
        },
        "outputId": "776d8a0a-0096-49a5-e876-0153b9b130d3"
      },
      "source": [
        "from sklearn.metrics import classification_report\n",
        "print(classification_report(y_test, y_predict))"
      ],
      "execution_count": null,
      "outputs": [
        {
          "output_type": "stream",
          "text": [
            "              precision    recall  f1-score   support\n",
            "\n",
            "           2       1.00      0.98      0.99        55\n",
            "           4       0.93      1.00      0.96        13\n",
            "\n",
            "    accuracy                           0.99        68\n",
            "   macro avg       0.96      0.99      0.98        68\n",
            "weighted avg       0.99      0.99      0.99        68\n",
            "\n"
          ],
          "name": "stdout"
        }
      ]
    },
    {
      "cell_type": "markdown",
      "metadata": {
        "id": "SNFpcQ7Ewjuw"
      },
      "source": [
        "**5.2 Random Forest Classification**"
      ]
    },
    {
      "cell_type": "code",
      "metadata": {
        "id": "g3bdZM5NxBy5"
      },
      "source": [
        "x_train, x_test, y_train, y_test = train_test_split(X, y, test_size = 0.2, random_state = 21)"
      ],
      "execution_count": null,
      "outputs": []
    },
    {
      "cell_type": "markdown",
      "metadata": {
        "id": "CPX-tX2dzYyV"
      },
      "source": [
        "**Setting Hperparameters:** \n",
        "\n",
        "1. n_estimator : The n_estimators parameter specifies the number of trees in the forest of the model.(Default value = 10)\n",
        "\n",
        "2. max_depth : The max_depth parameter specifies the maximum depth of each tree. (default value = None)"
      ]
    },
    {
      "cell_type": "markdown",
      "metadata": {
        "id": "w-JAXiPH0tc6"
      },
      "source": [
        "Here, setting n_estimator to 20 and max_depth to 10 "
      ]
    },
    {
      "cell_type": "code",
      "metadata": {
        "id": "R_S0WvoMw6Wy",
        "colab": {
          "base_uri": "https://localhost:8080/",
          "height": 330
        },
        "outputId": "e25cea31-42d9-4be6-81c0-7182edc47ee8"
      },
      "source": [
        "model = RandomForestClassifier(n_estimators=20, max_depth=10)\n",
        "v = model.fit(x_train, y_train)\n",
        "y_pred = model.predict(x_test)\n",
        "y_pred_train = model.predict(X_train)\n",
        "ac = accuracy_score(y_test, y_pred)\n",
        "\n",
        "print('Accuracy is: ',ac*100)\n",
        "cm = confusion_matrix(y_test,model.predict(x_test))\n",
        "print(cm)\n",
        "vis = plot_confusion_matrix(v, x_test, y_test, cmap=plt.cm.OrRd, display_labels = target_names)\n",
        "plt.show()"
      ],
      "execution_count": null,
      "outputs": [
        {
          "output_type": "stream",
          "text": [
            "Accuracy is:  97.08029197080292\n",
            "[[84  0]\n",
            " [ 4 49]]\n"
          ],
          "name": "stdout"
        },
        {
          "output_type": "display_data",
          "data": {
            "image/png": "[encoded data removed]",
            "text/plain": [
              "<Figure size 432x288 with 2 Axes>"
            ]
          },
          "metadata": {
            "tags": [],
            "needs_background": "light"
          }
        }
      ]
    },
    {
      "cell_type": "markdown",
      "metadata": {
        "id": "nv0NiTyv0oyf"
      },
      "source": [
        "\n",
        "\n",
        "Now, taking n_estimator and max_depth with their default values"
      ]
    },
    {
      "cell_type": "code",
      "metadata": {
        "id": "v0intJKH0oNL",
        "colab": {
          "base_uri": "https://localhost:8080/",
          "height": 330
        },
        "outputId": "47d50557-6eaf-454a-b55f-061c6fae5660"
      },
      "source": [
        "model = RandomForestClassifier()\n",
        "z = model.fit(x_train, y_train)\n",
        "y_pred = model.predict(x_test)\n",
        "y_pred_train = model.predict(X_train)\n",
        "ac = accuracy_score(y_test, y_pred)\n",
        "\n",
        "print('Accuracy is: ',ac*100)\n",
        "cm = confusion_matrix(y_test,model.predict(x_test))\n",
        "print(cm)\n",
        "vis = plot_confusion_matrix(z, x_test, y_test, cmap=plt.cm.OrRd, display_labels = target_names)\n",
        "plt.show()"
      ],
      "execution_count": null,
      "outputs": [
        {
          "output_type": "stream",
          "text": [
            "Accuracy is:  95.62043795620438\n",
            "[[83  1]\n",
            " [ 5 48]]\n"
          ],
          "name": "stdout"
        },
        {
          "output_type": "display_data",
          "data": {
            "image/png": "[encoded data removed]",
            "text/plain": [
              "<Figure size 432x288 with 2 Axes>"
            ]
          },
          "metadata": {
            "tags": [],
            "needs_background": "light"
          }
        }
      ]
    },
    {
      "cell_type": "markdown",
      "metadata": {
        "id": "_xFO8ahtfdXC"
      },
      "source": [
        "So with default values of n_estimator and max_depth, getting accuracy of 95.62% \n",
        "\n",
        "and with n_estimator = 20 & max_depth = 10, getting accuracy of 97.08%"
      ]
    },
    {
      "cell_type": "code",
      "metadata": {
        "id": "wvVs4ZbtxTC4",
        "colab": {
          "base_uri": "https://localhost:8080/"
        },
        "outputId": "9037019b-9e78-4ccc-bebb-b7fe047f5af1"
      },
      "source": [
        "from sklearn.metrics import classification_report\n",
        "print(classification_report(y_test, y_pred))"
      ],
      "execution_count": null,
      "outputs": [
        {
          "output_type": "stream",
          "text": [
            "              precision    recall  f1-score   support\n",
            "\n",
            "           2       0.97      0.99      0.98        84\n",
            "           4       0.98      0.94      0.96        53\n",
            "\n",
            "    accuracy                           0.97       137\n",
            "   macro avg       0.97      0.97      0.97       137\n",
            "weighted avg       0.97      0.97      0.97       137\n",
            "\n"
          ],
          "name": "stdout"
        }
      ]
    }
  ]
}